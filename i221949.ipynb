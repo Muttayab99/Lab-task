{
  "nbformat": 4,
  "nbformat_minor": 0,
  "metadata": {
    "colab": {
      "provenance": [],
      "include_colab_link": true
    },
    "kernelspec": {
      "name": "python3",
      "display_name": "Python 3"
    },
    "language_info": {
      "name": "python"
    }
  },
  "cells": [
    {
      "cell_type": "markdown",
      "metadata": {
        "id": "view-in-github",
        "colab_type": "text"
      },
      "source": [
        "<a href=\"https://colab.research.google.com/github/Muttayab99/Lab-task/blob/main/i221949.ipynb\" target=\"_parent\"><img src=\"https://colab.research.google.com/assets/colab-badge.svg\" alt=\"Open In Colab\"/></a>"
      ]
    },
    {
      "cell_type": "markdown",
      "source": [
        "# TASK 1\n",
        "dataset link : https://raw.githubusercontent.com/TirendazAcademy/PANDAS-TUTORIAL/main/DataSets/vgsalesGlobale.csv\n",
        "#Exercise\n",
        "Use the dataset of Game, we have explored earlier and perform following operations.\n",
        "\n",
        "* Calculate the total global sales for all games in the dataset.\n",
        "* Find the game with the highest global sales.\n",
        "* Determine the average sales for each region (NA_Sales, EU_Sales, JP_Sales, Other_Sales).\n",
        "* Find the top 5 most popular game genres based on global sales.\n",
        "* Calculate the total sales for each genre in each region and find the most popular genre in North America (NA_Sales).\n",
        "* Display last 10 rows.\n",
        "* Determine the top 3 gaming platforms with the highest global sales.\n",
        "* Calculate the market share (percentage of global sales) for each genre.\n",
        "* Calculate the correlation coefficient between NA_Sales and EU_Sales. (.corr function)"
      ],
      "metadata": {
        "id": "v8rqnoOM0NqI"
      }
    },
    {
      "cell_type": "code",
      "source": [
        "import pandas as pd\n",
        "df = pd.read_csv('vgsalesGlobale.csv')\n",
        "total_global_sales = df['Global_Sales'].sum()\n",
        "print(\"Total Global Sales:\", total_global_sales)\n",
        "\n",
        "highest_sales_game = df.loc[df['Global_Sales'].idxmax()]\n",
        "print(\"Game with Highest Global Sales:\")\n",
        "print(highest_sales_game)\n",
        "\n",
        "average_sales_region = df[['NA_Sales', 'EU_Sales', 'JP_Sales', 'Other_Sales']].mean()\n",
        "print(\"Average Sales per Region:\")\n",
        "print(average_sales_region)\n",
        "\n",
        "top5_genres = df.groupby('Genre')['Global_Sales'].sum().nlargest(5)\n",
        "print(\"Top 5 Popular Game Genres:\")\n",
        "print(top5_genres)\n",
        "\n",
        "genre_sales_by_region = df.groupby('Genre')[['NA_Sales', 'EU_Sales', 'JP_Sales', 'Other_Sales']].sum()\n",
        "most_popular_genre_na = genre_sales_by_region['NA_Sales'].idxmax()\n",
        "print(\"Total Sales for Each Genre in Each Region:\")\n",
        "print(genre_sales_by_region)\n",
        "print(\"Most Popular Genre in North America:\", most_popular_genre_na)\n",
        "\n",
        "print(\"Last 10 Rows:\")\n",
        "print(df.tail(10))\n",
        "\n",
        "top3_platforms = df.groupby('Platform')['Global_Sales'].sum().nlargest(3)\n",
        "print(\"Top 3 Gaming Platforms:\")\n",
        "print(top3_platforms)\n",
        "\n",
        "genre_market_share = (df.groupby('Genre')['Global_Sales'].sum() / total_global_sales) * 100\n",
        "print(\"Market Share for Each Genre:\")\n",
        "print(genre_market_share)\n",
        "\n",
        "correlation_na_eu = df['NA_Sales'].corr(df['EU_Sales'])\n",
        "print(\"Correlation Coefficient between NA_Sales and EU_Sales:\", correlation_na_eu)\n"
      ],
      "metadata": {
        "id": "HHcDpJjpceW2",
        "outputId": "3333e81b-3ac0-4e4a-da6e-8bc8fed45906",
        "colab": {
          "base_uri": "https://localhost:8080/"
        }
      },
      "execution_count": null,
      "outputs": [
        {
          "output_type": "stream",
          "name": "stdout",
          "text": [
            "Total Global Sales: 8920.44\n",
            "Game with Highest Global Sales:\n",
            "Rank                     1\n",
            "Name            Wii Sports\n",
            "Platform               Wii\n",
            "Year                2006.0\n",
            "Genre               Sports\n",
            "Publisher         Nintendo\n",
            "NA_Sales             41.49\n",
            "EU_Sales             29.02\n",
            "JP_Sales              3.77\n",
            "Other_Sales           8.46\n",
            "Global_Sales         82.74\n",
            "Name: 0, dtype: object\n",
            "Average Sales per Region:\n",
            "NA_Sales       0.264667\n",
            "EU_Sales       0.146652\n",
            "JP_Sales       0.077782\n",
            "Other_Sales    0.048063\n",
            "dtype: float64\n",
            "Top 5 Popular Game Genres:\n",
            "Genre\n",
            "Action          1751.18\n",
            "Sports          1330.93\n",
            "Shooter         1037.37\n",
            "Role-Playing     927.37\n",
            "Platform         831.37\n",
            "Name: Global_Sales, dtype: float64\n",
            "Total Sales for Each Genre in Each Region:\n",
            "              NA_Sales  EU_Sales  JP_Sales  Other_Sales\n",
            "Genre                                                  \n",
            "Action          877.83    525.00    159.95       187.38\n",
            "Adventure       105.80     64.13     52.07        16.81\n",
            "Fighting        223.59    101.32     87.35        36.68\n",
            "Misc            410.24    215.98    107.76        75.32\n",
            "Platform        447.05    201.63    130.77        51.59\n",
            "Puzzle          123.78     50.78     57.31        12.55\n",
            "Racing          359.42    238.39     56.69        77.27\n",
            "Role-Playing    327.28    188.06    352.31        59.61\n",
            "Shooter         582.60    313.27     38.28       102.69\n",
            "Simulation      183.31    113.38     63.70        31.52\n",
            "Sports          683.35    376.85    135.37       134.97\n",
            "Strategy         68.70     45.34     49.46        11.36\n",
            "Most Popular Genre in North America: Action\n",
            "Last 10 Rows:\n",
            "        Rank                                               Name Platform  \\\n",
            "16588  16591                                   Mega Brain Boost       DS   \n",
            "16589  16592  Chou Ezaru wa Akai Hana: Koi wa Tsuki ni Shiru...      PSV   \n",
            "16590  16593  Eiyuu Densetsu: Sora no Kiseki Material Collec...      PSP   \n",
            "16591  16594                                Myst IV: Revelation       PC   \n",
            "16592  16595                                           Plushees       DS   \n",
            "16593  16596                 Woody Woodpecker in Crazy Castle 5      GBA   \n",
            "16594  16597                      Men in Black II: Alien Escape       GC   \n",
            "16595  16598   SCORE International Baja 1000: The Official Game      PS2   \n",
            "16596  16599                                         Know How 2       DS   \n",
            "16597  16600                                   Spirits & Spells      GBA   \n",
            "\n",
            "         Year         Genre              Publisher  NA_Sales  EU_Sales  \\\n",
            "16588  2008.0        Puzzle  Majesco Entertainment      0.01      0.00   \n",
            "16589  2016.0        Action        dramatic create      0.00      0.00   \n",
            "16590  2007.0  Role-Playing     Falcom Corporation      0.00      0.00   \n",
            "16591  2004.0     Adventure                Ubisoft      0.01      0.00   \n",
            "16592  2008.0    Simulation              Destineer      0.01      0.00   \n",
            "16593  2002.0      Platform                  Kemco      0.01      0.00   \n",
            "16594  2003.0       Shooter             Infogrames      0.01      0.00   \n",
            "16595  2008.0        Racing             Activision      0.00      0.00   \n",
            "16596  2010.0        Puzzle               7G//AMES      0.00      0.01   \n",
            "16597  2003.0      Platform                Wanadoo      0.01      0.00   \n",
            "\n",
            "       JP_Sales  Other_Sales  Global_Sales  \n",
            "16588      0.00          0.0          0.01  \n",
            "16589      0.01          0.0          0.01  \n",
            "16590      0.01          0.0          0.01  \n",
            "16591      0.00          0.0          0.01  \n",
            "16592      0.00          0.0          0.01  \n",
            "16593      0.00          0.0          0.01  \n",
            "16594      0.00          0.0          0.01  \n",
            "16595      0.00          0.0          0.01  \n",
            "16596      0.00          0.0          0.01  \n",
            "16597      0.00          0.0          0.01  \n",
            "Top 3 Gaming Platforms:\n",
            "Platform\n",
            "PS2     1255.64\n",
            "X360     979.96\n",
            "PS3      957.84\n",
            "Name: Global_Sales, dtype: float64\n",
            "Market Share for Each Genre:\n",
            "Genre\n",
            "Action          19.631094\n",
            "Adventure        2.679688\n",
            "Fighting         5.032375\n",
            "Misc             9.079821\n",
            "Platform         9.319832\n",
            "Puzzle           2.745941\n",
            "Racing           8.206322\n",
            "Role-Playing    10.396012\n",
            "Shooter         11.629135\n",
            "Simulation       4.396644\n",
            "Sports          14.920004\n",
            "Strategy         1.963132\n",
            "Name: Global_Sales, dtype: float64\n",
            "Correlation Coefficient between NA_Sales and EU_Sales: 0.7677267483702631\n"
          ]
        }
      ]
    },
    {
      "cell_type": "markdown",
      "source": [
        "## Task 2 English-Spanish Dictionary\n",
        "You are creating a basic English-Spanish dictionary that allows users to look up English words and find their Spanish translations.\n",
        "\n",
        "\n",
        "### Tasks\n",
        "* Create a dictionary where English words are keys and their Spanish translations are values.\n",
        "* Ask the user to input an English word.\n",
        "* Check if the word exists in the dictionary.\n",
        "* If the word exists, print its Spanish translation.\n",
        "* If the word does not exist, inform the user that the translation is not available.\n",
        "* Implement a loop that allows the user to keep looking up words until they choose to exit.\n"
      ],
      "metadata": {
        "id": "TAcoA0P60GrS"
      }
    },
    {
      "cell_type": "code",
      "source": [
        "dictionary = {\n",
        "    \"apple\": \"manzana\",\n",
        "    \"car\": \"coche\",\n",
        "    \"house\": \"casa\",\n",
        "    \"book\": \"libro\",\n",
        "    \"computer\": \"computadora\"\n",
        "}\n",
        "\n",
        "while True:\n",
        "    word = input(\"Enter an English word to translate (or type 'quit' to stop): \").lower()\n",
        "    if word == \"quit\":\n",
        "        print(\"Thanks\")\n",
        "        break\n",
        "    if word in dictionary:\n",
        "        print(f\"The Spanish translation of '{word}' is '{dictionary[word]}'.\")\n",
        "    else:\n",
        "        print(\"Transaltion not available\")\n"
      ],
      "metadata": {
        "id": "pvMqEq3peJe3",
        "outputId": "ddae856b-f75e-4f2b-b83a-d33c5fe34e63",
        "colab": {
          "base_uri": "https://localhost:8080/"
        }
      },
      "execution_count": null,
      "outputs": [
        {
          "output_type": "stream",
          "name": "stdout",
          "text": [
            "Enter an English word to translate (or type 'quit' to stop): book\n",
            "The Spanish translation of 'book' is 'libro'.\n",
            "Enter an English word to translate (or type 'quit' to stop): quit\n",
            "Thanks\n"
          ]
        }
      ]
    },
    {
      "cell_type": "markdown",
      "source": [
        "\n",
        "## Task 3 Email Classification\n",
        "Develope a tool which will classify an email.\n",
        "\n",
        "### Tasks:\n",
        "* Create a function classify_emails that takes a list of emails as an argument.\n",
        "* Inside the function, categorize emails into \"Important,\" \"Promotions,\" and \"Spam\" based on keywords and content analysis.\n",
        "* Loop through the emails and identify keywords to determine their category.\n",
        "* If an email contains keywords indicating importance, assign it as \"Important.\"\n",
        "* If an email contains keywords related to promotions or deals, assign it as \"Promotions.\"\n",
        "* If an email is suspected to be spam based on certain keywords or patterns, assign it as \"Spam.\"\n",
        "* Return three lists of emails for each category.\n",
        "* Print the lists."
      ],
      "metadata": {
        "id": "l7D9aut90G_C"
      }
    },
    {
      "cell_type": "code",
      "source": [
        "def classify_emails(emails):\n",
        "    important= [\"deadline\", \"presentation\", \"meeting\"]\n",
        "    promotions= [\"offer\", \"promotion\", \"limited time\"]\n",
        "    spam = [\"win a prize\", \"claim your\"]\n",
        "    impor = []\n",
        "    promo = []\n",
        "    spam_ = []\n",
        "    for email in emails:\n",
        "        email_lower = email.lower()\n",
        "        if any(word in email_lower for word in important):\n",
        "            impor.append(email)\n",
        "        elif any(word in email_lower for word in promotions):\n",
        "            promo.append(email)\n",
        "        elif any(word in email_lower for word in spam):\n",
        "            spam_.append(email)\n",
        "        else:\n",
        "            important.append(email)\n",
        "    return impor, promo, spam_\n",
        "emails= [\n",
        "    \"Project deadline is next Friday\",\n",
        "    \"Client meeting scheduled for tomorrow\",\n",
        "    \"Special offer on winter clothing\",\n",
        "    \"Hurry! Claim your free gift now!\"\n",
        "]\n",
        "important_emails, promotion_emails, spam_emails = classify_emails(emails)\n",
        "print(\"Important Emails:\", important_emails)\n",
        "print(\"Promotions Emails:\", promotion_emails)\n",
        "print(\"Spam Emails:\", spam_emails)\n"
      ],
      "metadata": {
        "id": "xyJQMXLKgrsa",
        "outputId": "e390ce61-9a64-414e-88b9-2cd29f228355",
        "colab": {
          "base_uri": "https://localhost:8080/"
        }
      },
      "execution_count": null,
      "outputs": [
        {
          "output_type": "stream",
          "name": "stdout",
          "text": [
            "Important Emails: ['Project deadline is next Friday', 'Client meeting scheduled for tomorrow']\n",
            "Promotions Emails: ['Special offer on winter clothing']\n",
            "Spam Emails: ['Hurry! Claim your free gift now!']\n"
          ]
        }
      ]
    },
    {
      "cell_type": "markdown",
      "source": [
        "## Task 4 Online Store Shopping Cart\n",
        "Write a Python program to simulate the online store's shopping cart system. The program should use a while loop to provide an interactive shopping experience.\n",
        "\n",
        "\n",
        "### Tasks:\n",
        "* Initialize an empty list called shopping_cart to store items.\n",
        "* Display a welcome message and available products.\n",
        "* Loop should be iterating over AI Response Simulator and Investment decision and keep asking for user input.\n",
        "* Prompt the user to enter the number corresponding to the product they want to add to the cart.\n",
        "* Check if the user entered 'q'. If so, break the loop.\n",
        "* Convert the choice to an integer and validate it within the valid range (1 to 3).\n",
        "* Based on the user's choice, add the selected product to the shopping_cart list.\n",
        "* Display a confirmation message indicating the added product.\n",
        "* Continue the loop to allow the user to add more products or proceed to checkout.\n",
        "* After the loop ends, display the contents of the shopping cart.\n",
        "* Display a goodbye message.\n",
        "* End the program."
      ],
      "metadata": {
        "id": "0brD8K130gh8"
      }
    },
    {
      "cell_type": "code",
      "source": [
        "shopping_cart = []\n",
        "print(\"Welcome\")\n",
        "print(\"1.AI Response Simulator: $66\")\n",
        "print(\"2.Investment Decision Tool: $99\")\n",
        "while True:\n",
        "    choice = input(\"Pick a product by number (or type 'q' to quit): \")\n",
        "    if choice == 'q':\n",
        "        break\n",
        "    if choice == '1':\n",
        "        shopping_cart.append(\"AI Response Simulator\")\n",
        "        print(\"added AI Response Simulator to your cart.\")\n",
        "    elif choice == '2':\n",
        "        shopping_cart.append(\"Investment Decision Tool\")\n",
        "        print(\"added Investment Decision Tool to your cart.\")\n",
        "    else:\n",
        "        print(\"Invalid option. Please choose 1, or 2\")\n",
        "print(\"These are the items in your cart:\")\n",
        "for item in shopping_cart:\n",
        "    print(item)\n",
        "print(\"Thanks!\")\n"
      ],
      "metadata": {
        "id": "n7AHkNv-jDgZ",
        "outputId": "7c548a2d-fea0-4865-d4df-bab3f85fae58",
        "colab": {
          "base_uri": "https://localhost:8080/"
        }
      },
      "execution_count": null,
      "outputs": [
        {
          "output_type": "stream",
          "name": "stdout",
          "text": [
            "Welcome\n",
            "1.AI Response Simulator: $66\n",
            "2.Investment Decision Tool: $99\n",
            "Pick a product by number (or type 'q' to quit): 1\n",
            "You added AI Response Simulator to your cart.\n",
            "Pick a product by number (or type 'q' to quit): 1\n",
            "You added AI Response Simulator to your cart.\n",
            "Pick a product by number (or type 'q' to quit): q\n",
            "These are the items in your cart:\n",
            "AI Response Simulator\n",
            "AI Response Simulator\n",
            "Thanks!\n"
          ]
        }
      ]
    },
    {
      "cell_type": "markdown",
      "source": [
        "## Task 5\n",
        "* Create two NumPy arrays of the same shape and perform element-wise addition on them.\n",
        "* Calculate the element-wise product of two NumPy arrays."
      ],
      "metadata": {
        "id": "2u1i-sXA0mYb"
      }
    },
    {
      "cell_type": "code",
      "source": [
        "import numpy as np\n",
        "array1 = np.array([[7, 8, 9], [7, 11, 4]])\n",
        "array2 = np.array([[6, 2, 0], [4, 5, 6]])\n",
        "sum = array1 + array2\n",
        "product = array1*array2\n",
        "print(sum)\n",
        "print(\" \")\n",
        "print(product)\n"
      ],
      "metadata": {
        "id": "XAfx1iL8k_8w",
        "outputId": "14c8c4e4-39b6-498f-c5b0-7ce3ae6c1f69",
        "colab": {
          "base_uri": "https://localhost:8080/"
        }
      },
      "execution_count": null,
      "outputs": [
        {
          "output_type": "stream",
          "name": "stdout",
          "text": [
            "[[13 10  9]\n",
            " [11 16 10]]\n",
            " \n",
            "[[42 16  0]\n",
            " [28 55 24]]\n"
          ]
        }
      ]
    },
    {
      "cell_type": "markdown",
      "source": [
        "## Task 6\n",
        "* Reshape a 1D NumPy array into a 2D array with dimensions (3, 4).\n",
        "\n",
        "* Concatenate two NumPy arrays horizontally and vertically."
      ],
      "metadata": {
        "id": "bhV4sIZU1Iui"
      }
    },
    {
      "cell_type": "code",
      "source": [
        "one_d = np.array([9, 3, 2, 1, 8, 4, 10, 8, 2, 4, 1, 2])\n",
        "reshaped_array =one_d.reshape(3, 4)\n",
        "array1= np.array([[10, 20], [30, 40]])\n",
        "array2= np.array([[50, 60], [70, 80]])\n",
        "horizontal_concat = np.hstack((array1, array2))\n",
        "vertical_concat = np.vstack((array1, array2))\n",
        "print(reshaped_array)\n",
        "print(\" \")\n",
        "print(horizontal_concat)\n",
        "print(\" \")\n",
        "print(vertical_concat)\n"
      ],
      "metadata": {
        "id": "KCWq6uu_lxpP",
        "outputId": "b05a9ca3-414e-4c33-8e64-b2c144efef29",
        "colab": {
          "base_uri": "https://localhost:8080/"
        }
      },
      "execution_count": null,
      "outputs": [
        {
          "output_type": "stream",
          "name": "stdout",
          "text": [
            "[[ 9  3  2  1]\n",
            " [ 8  4 10  8]\n",
            " [ 2  4  1  2]]\n",
            " \n",
            "[[10 20 50 60]\n",
            " [30 40 70 80]]\n",
            " \n",
            "[[10 20]\n",
            " [30 40]\n",
            " [50 60]\n",
            " [70 80]]\n"
          ]
        }
      ]
    },
    {
      "cell_type": "markdown",
      "source": [
        "## Task 7\n",
        "* Reverse A List In Python Using Slicing\n"
      ],
      "metadata": {
        "id": "HJYa0CKL1bGi"
      }
    },
    {
      "cell_type": "code",
      "source": [
        "list_ = [6, 1, 8, 0, 5]\n",
        "reversed_list = list_[::-1]\n",
        "reversed_list"
      ],
      "metadata": {
        "id": "f-OTyG_Hma58",
        "outputId": "cc521980-3ca2-4cb0-9759-633f8dd8eabb",
        "colab": {
          "base_uri": "https://localhost:8080/"
        }
      },
      "execution_count": null,
      "outputs": [
        {
          "output_type": "execute_result",
          "data": {
            "text/plain": [
              "[5, 0, 8, 1, 6]"
            ]
          },
          "metadata": {},
          "execution_count": 15
        }
      ]
    },
    {
      "cell_type": "markdown",
      "source": [
        "# TASK 8\n",
        "You need to download the GitHub Desktop software, push your lab task to your GitHub account, and share the link on GCR as a submission."
      ],
      "metadata": {
        "id": "hkrCxw4XSRl0"
      }
    }
  ]
}